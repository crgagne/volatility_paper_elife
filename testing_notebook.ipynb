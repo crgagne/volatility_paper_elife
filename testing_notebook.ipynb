{
  "nbformat": 4,
  "nbformat_minor": 0,
  "metadata": {
    "kernelspec": {
      "display_name": "Python 2",
      "language": "python",
      "name": "python2"
    },
    "language_info": {
      "codemirror_mode": {
        "name": "ipython",
        "version": 2
      },
      "file_extension": ".py",
      "mimetype": "text/x-python",
      "name": "python",
      "nbconvert_exporter": "python",
      "pygments_lexer": "ipython2",
      "version": "2.7.17"
    },
    "colab": {
      "name": "testing_notebook.ipynb",
      "provenance": [],
      "include_colab_link": true
    }
  },
  "cells": [
    {
      "cell_type": "markdown",
      "metadata": {
        "id": "view-in-github",
        "colab_type": "text"
      },
      "source": [
        "<a href=\"https://colab.research.google.com/github/crgagne/volatility_paper_elife/blob/master/testing_notebook.ipynb\" target=\"_parent\"><img src=\"https://colab.research.google.com/assets/colab-badge.svg\" alt=\"Open In Colab\"/></a>"
      ]
    },
    {
      "cell_type": "code",
      "metadata": {
        "id": "AWRpGaH7zRBl"
      },
      "source": [
        "from nipype.interfaces.base import File, Directory, traits, BaseInterface, BaseInterfaceInputSpec, TraitedSpec\n",
        "from nipype.utils.filemanip import split_filename\n",
        "import nipype.interfaces.matlab as matlab\n",
        "import os\n",
        "from os import listdir\n",
        "from os.path import isfile, join\n",
        "import shutil"
      ],
      "execution_count": null,
      "outputs": []
    },
    {
      "cell_type": "code",
      "metadata": {
        "id": "Pl9UOF6azRB3"
      },
      "source": [
        "class _input(BaseInterfaceInputSpec):\n",
        "    in_dir = Directory(exists=True, \n",
        "                       desc='path of the directory, in which the files are associated to the Matlab function (e.g. number of these files defines how many times the Matlab function is called)', \n",
        "                       mandatory = True)\n",
        "    matlab_paths= traits.List(traits.Str, desc='List of paths to add to matlabpath', mandatory= True)\n",
        "    matlab_script= traits.List(traits.Str, desc='Matlab script in a list; first command corresponds to the first element of the list etc.', mandatory= True)\n",
        "    #change method \"Any\" to the type of your input parameter;\n",
        "    #for possible traits see api.py in the traits installer directory,\n",
        "    #e.g. /home/aathanasiadis/.local/lib/python2.7/site-packages/traits/api.py\n",
        "    input_parameter = traits.Any(desc='some input parameter',mandatory = False)\n"
      ],
      "execution_count": null,
      "outputs": []
    },
    {
      "cell_type": "code",
      "metadata": {
        "id": "soiCKXBWzRB5"
      },
      "source": [
        "class _output(TraitedSpec):\n",
        "    out_file = File(exists=True,desc='filename of the out file')"
      ],
      "execution_count": null,
      "outputs": []
    },
    {
      "cell_type": "code",
      "metadata": {
        "id": "c5ANKD1CzRB6"
      },
      "source": [
        "class matlab_template(BaseInterface):\n",
        "    \"\"\" Template function which takes Matlab file(s) as input and gives file as output.\n",
        "    Requires Matlab and the corresponding libraries with the filter as well as NiftiConverter\n",
        "    \"\"\"\n",
        "    \n",
        "    #defines input and output of the class\n",
        "    input_spec = _input\n",
        "    output_spec = _output\n",
        "\n",
        "    #makes a list of paths of files from the directory to input; by default it takes all the files.\n",
        "    def _file_selection(self, select_all_files_from_directory= True):\n",
        "        src_dir= self.inputs.in_dir\n",
        "        self.input_files_list = []\n",
        "        if select_all_files_from_directory== False:\n",
        "            def input_files_list_gen(paths_list):\n",
        "                for i in paths_list:\n",
        "                    self.input_files_list.append(os.path.abspath(os.path.join(src_dir,i)))\n",
        "            return input_files_list_gen\n",
        "\n",
        "        else:\n",
        "            for i in listdir(src_dir):\n",
        "                if isfile(join(src_dir, i)):\n",
        "                    self.input_files_list.append(os.path.abspath(os.path.join(src_dir,i)))\n",
        "#             self.input_files_list= list(f for f in listdir(src_dir) if isfile(join(src_dir, f)))\n",
        "\n",
        "\n",
        "    def _run_interface(self,runtime):        \n",
        "        mlab= matlab.MatlabCommand(mfile= False) #set to True to write matlab script file\n",
        "        mlab.inputs.paths= self.inputs.matlab_paths\n",
        "        \n",
        "        mlab_script= '%s ' %(self.inputs.matlab_script[0])\n",
        "#         for j in range(len(self.input_files_list)):     #run the matlab function as many times as the number of input files are. Needs more changes!\n",
        "        for i in self.inputs.matlab_script[1:]:\n",
        "            next_command = '%s '%(i)\n",
        "            print('next command is '+ next_command)\n",
        "            mlab_script += next_command\n",
        "            print('mlab script is '+ mlab_script)\n",
        "        #can also do sth with the other input_parameter\n",
        "        \n",
        "        # --- run the script ---\n",
        "        mlab.inputs.script = \"\"\"%s\"\"\" %(mlab_script)\n",
        "        print( mlab.inputs.script)\n",
        "        results = mlab.run()\n",
        "        return results.runtime\n",
        "\n",
        "\n",
        "    def _list_outputs(self):\n",
        "        outputs = self._outputs().get()\n",
        "        #output very dependent on the user's goal\n",
        "        #in this case we have a list of input files and a list of output copied files with name realtive to the corresponding input file\n",
        "        #can also create output folder in the input directory to store output files\n",
        "            #for fname in self.input_files_list:\n",
        "        path, base, ext = split_filename(self.input_files_list[0])\n",
        "        dst_path= os.path.abspath(os.path.join(path,('new_fname_based_on_input_fname_' + base + ext)))\n",
        "        dst_file= shutil.copy2(self.input_files_list[0], dst_path)\n",
        "        outputs['out_file'] = dst_path\n",
        "        return outputs"
      ],
      "execution_count": null,
      "outputs": []
    },
    {
      "cell_type": "code",
      "metadata": {
        "id": "9dc_9RspzRB8"
      },
      "source": [
        "mlab= matlab_template()"
      ],
      "execution_count": null,
      "outputs": []
    },
    {
      "cell_type": "code",
      "metadata": {
        "id": "QJeCwSrWzRB9"
      },
      "source": [
        "mlab.inputs.in_dir = '/home/aathanasiadis/Data'"
      ],
      "execution_count": null,
      "outputs": []
    },
    {
      "cell_type": "code",
      "metadata": {
        "id": "9xN0_mzZzRB-"
      },
      "source": [
        "mlab._file_selection(select_all_files_from_directory= False)(['scm_MP2RAGEcorr_masked0.nii', 'scm_MP2RAGEcorr_masked1.nii'])"
      ],
      "execution_count": null,
      "outputs": []
    },
    {
      "cell_type": "code",
      "metadata": {
        "id": "Kf0V4HoZzRB-"
      },
      "source": [
        "mlab.inputs.matlab_paths= ['/home/aathanasiadis/Matlab/test_functions']"
      ],
      "execution_count": null,
      "outputs": []
    },
    {
      "cell_type": "code",
      "metadata": {
        "id": "FVgqT8_fzRB_"
      },
      "source": [
        "mlab.inputs.matlab_script= [\"print_sth('hello');\", \"print_sth('Hello Matlab');\"]"
      ],
      "execution_count": null,
      "outputs": []
    },
    {
      "cell_type": "code",
      "metadata": {
        "id": "I20GPt0ozRCA",
        "outputId": "75f2fea2-0a06-4e6e-e5a9-3a85c16e1d5a"
      },
      "source": [
        "o= mlab.run()"
      ],
      "execution_count": null,
      "outputs": [
        {
          "output_type": "stream",
          "text": [
            "next command is print_sth('Hello Matlab'); \n",
            "mlab script is print_sth('hello'); print_sth('Hello Matlab'); \n",
            "print_sth('hello'); print_sth('Hello Matlab'); \n"
          ],
          "name": "stdout"
        }
      ]
    },
    {
      "cell_type": "code",
      "metadata": {
        "id": "8-2BDm4SzRCC",
        "outputId": "3557f346-8c16-4e5e-b620-5605687d52fa"
      },
      "source": [
        "print(o)"
      ],
      "execution_count": null,
      "outputs": [
        {
          "output_type": "stream",
          "text": [
            "<nipype.interfaces.base.support.InterfaceResult object at 0x7f24a6f72f50>\n"
          ],
          "name": "stdout"
        }
      ]
    },
    {
      "cell_type": "code",
      "metadata": {
        "id": "uHI2Ok4JzRCE",
        "outputId": "21f5ef4b-5406-40de-e584-a98eb68b1021"
      },
      "source": [
        "matlab_template.help()"
      ],
      "execution_count": null,
      "outputs": [
        {
          "output_type": "stream",
          "text": [
            "Template function which takes Matlab file(s) as input and gives file as output.\n",
            "Requires Matlab and the corresponding libraries with the filter as well as NiftiConverter\n",
            "\n",
            "Inputs::\n",
            "\n",
            "        [Mandatory]\n",
            "        in_dir: (a pathlike object or string representing an existing\n",
            "                  directory)\n",
            "                path of the directory, from which the files are associated to the\n",
            "                Matlab function (e.g. number of these files defines how many times\n",
            "                the Matlab function is called)\n",
            "        matlab_script: (a list of items which are a unicode string)\n",
            "                Matlab script in a list; first command corresponds to the first\n",
            "                element of the list etc.\n",
            "        matlab_paths: (a list of items which are a unicode string)\n",
            "                List of paths to add to matlabpath\n",
            "\n",
            "        [Optional]\n",
            "        input_parameter: (any value)\n",
            "                some input parameter\n",
            "\n",
            "Outputs::\n",
            "\n",
            "        out_file: (a pathlike object or string representing an existing file)\n",
            "                filename of the out file\n",
            "\n"
          ],
          "name": "stdout"
        }
      ]
    }
  ]
}