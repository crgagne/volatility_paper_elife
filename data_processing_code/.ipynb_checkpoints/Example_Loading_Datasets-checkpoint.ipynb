{
 "cells": [
  {
   "cell_type": "markdown",
   "metadata": {},
   "source": [
    "## Loading Data for Modeling"
   ]
  },
  {
   "cell_type": "code",
   "execution_count": 1,
   "metadata": {},
   "outputs": [],
   "source": [
    "import sys\n",
    "import imp \n",
    "import pandas as pd\n",
    "import numpy as np\n",
    "import matplotlib.pyplot as plt\n",
    "%matplotlib inline\n",
    "\n",
    "sys.path.append('../data_processing_code/')"
   ]
  },
  {
   "cell_type": "markdown",
   "metadata": {},
   "source": [
    "### Loading Experiment 1 data"
   ]
  },
  {
   "cell_type": "code",
   "execution_count": 2,
   "metadata": {},
   "outputs": [],
   "source": [
    "import get_data\n",
    "imp.reload(get_data)\n",
    "from get_data import get_data"
   ]
  },
  {
   "cell_type": "code",
   "execution_count": 3,
   "metadata": {},
   "outputs": [
    {
     "name": "stdout",
     "output_type": "stream",
     "text": [
      "pain task excluded:12\n",
      "rew task excluded:9\n",
      "has both: 71\n",
      "pain only:6\n",
      "rew only:9\n",
      "subj X task:157\n",
      "subjs:86\n",
      "(180, 157)\n",
      "(180, 157)\n",
      "(180, 157)\n",
      "(180, 157)\n"
     ]
    }
   ],
   "source": [
    "dftmp = pd.read_csv('../data/participant_table_exp1.csv')\n",
    "data = get_data(dftmp)"
   ]
  },
  {
   "cell_type": "code",
   "execution_count": 4,
   "metadata": {},
   "outputs": [
    {
     "data": {
      "text/plain": [
       "86"
      ]
     },
     "execution_count": 4,
     "metadata": {},
     "output_type": "execute_result"
    }
   ],
   "source": [
    "len(data['MID_all_unique'])"
   ]
  },
  {
   "cell_type": "code",
   "execution_count": 5,
   "metadata": {},
   "outputs": [
    {
     "data": {
      "text/plain": [
       "['cb100', 'cb101', 'cb103', 'cb105', 'cb107']"
      ]
     },
     "execution_count": 5,
     "metadata": {},
     "output_type": "execute_result"
    }
   ],
   "source": [
    "data['MID_all_unique'][0:5]"
   ]
  },
  {
   "cell_type": "code",
   "execution_count": 6,
   "metadata": {},
   "outputs": [
    {
     "data": {
      "text/plain": [
       "array([60, 25, 74, 62, 61, 66, 34, 57, 55, 66, 63, 50, 51, 58, 38, 48, 24,\n",
       "       62, 63, 62, 42, 40, 49, 49, 53, 42, 50, 31, 57, 61, 49, 56, 51, 33,\n",
       "       52, 56, 63, 22, 63, 70, 59, 48, 44, 36, 35, 26, 34, 33, 35, 29, 38,\n",
       "       31, 34, 32, 42, 49, 27, 44, 25, 42, 64, 20, 23, 59, 32, 27, 25, 58,\n",
       "       29, 22, 37, 60, 25, 74, 62, 61, 66, 34, 57, 55, 66, 63, 50, 51, 58,\n",
       "       38, 48, 24, 62, 63, 62, 42, 40, 49, 49, 53, 42, 50, 31, 57, 61, 49,\n",
       "       56, 51, 33, 52, 56, 63, 22, 63, 70, 59, 48, 44, 36, 35, 26, 34, 33,\n",
       "       35, 29, 38, 31, 34, 32, 42, 49, 27, 44, 25, 42, 64, 20, 23, 59, 32,\n",
       "       27, 25, 58, 29, 22, 37, 28, 47, 62, 34, 64, 48, 73, 64, 21, 41, 60,\n",
       "       48, 20, 50, 62])"
      ]
     },
     "execution_count": 6,
     "metadata": {},
     "output_type": "execute_result"
    }
   ],
   "source": [
    "data['STAI_nonscaled']"
   ]
  },
  {
   "cell_type": "code",
   "execution_count": 7,
   "metadata": {},
   "outputs": [
    {
     "data": {
      "text/plain": [
       "array([ 0.14755804, -0.95709872,  2.26531074,  1.43919799,  1.35177145,\n",
       "        1.50767057, -1.19398334,  0.3544542 , -0.87226611,  0.41941912,\n",
       "        0.74939338, -0.50282119,  1.75282067, -0.05899039, -0.90948916,\n",
       "       -0.98627509, -1.4326846 ,  1.70081521,  1.4013291 ,  0.58111659,\n",
       "       -0.8453864 , -0.30890789,  0.37945351,  0.0118929 ,  1.29360302,\n",
       "       -0.4265411 , -0.25434775, -0.80550727,  1.04393912,  1.43690884,\n",
       "        0.66425017, -0.56126892,  0.19483674, -0.77689611, -0.29200188,\n",
       "        1.97956206,  2.13902264, -1.10610059,  1.58339688,  1.75518496,\n",
       "       -0.37319643, -0.04607938, -0.01699019, -0.74608116, -1.0693396 ,\n",
       "       -1.13634699, -1.15640149, -1.15123364, -0.21043034, -1.14501248,\n",
       "       -0.71669323, -0.19487028, -0.35051931, -0.44158464, -0.11564757,\n",
       "       -0.35722452, -0.77463108, -0.36726959, -0.63635009, -0.97250678,\n",
       "        1.03341479, -0.98311704, -0.96913988,  1.27214139, -0.0365546 ,\n",
       "       -0.91620724, -1.29125694,  0.72494687, -0.48118133, -1.25070171,\n",
       "       -0.71989378, -0.99880741, -0.16036039,  0.93435377,  0.15846981,\n",
       "        0.77241903,  1.06319638,  1.90614097,  0.6740374 , -0.88120828,\n",
       "       -1.37517002,  0.56707853, -0.3624165 , -0.95070021,  0.63947091,\n",
       "        1.48072975])"
      ]
     },
     "execution_count": 7,
     "metadata": {},
     "output_type": "execute_result"
    }
   ],
   "source": [
    "data['Bi1item_w_j_scaled_all_unique']"
   ]
  },
  {
   "cell_type": "markdown",
   "metadata": {},
   "source": [
    "### Loading Experiment 2 data"
   ]
  },
  {
   "cell_type": "code",
   "execution_count": 27,
   "metadata": {},
   "outputs": [],
   "source": [
    "import get_data\n",
    "imp.reload(get_data)\n",
    "from get_data import get_data_online"
   ]
  },
  {
   "cell_type": "code",
   "execution_count": 28,
   "metadata": {},
   "outputs": [
    {
     "name": "stdout",
     "output_type": "stream",
     "text": [
      "subj X task:294\n",
      "subjs:147\n",
      "(180, 294)\n",
      "(180, 294)\n",
      "(180, 294)\n",
      "(180, 294)\n"
     ]
    },
    {
     "name": "stderr",
     "output_type": "stream",
     "text": [
      "/Users/chrisgagne/synced_folders/bishop_lab_projects/volatility_paper_elife_submission/data_processing_code/get_data.py:1205: RuntimeWarning: Mean of empty slice\n",
      "  mean_ = np.nanmean(X, axis)\n",
      "/Users/chrisgagne/anaconda3/lib/python3.7/site-packages/numpy/lib/nanfunctions.py:1628: RuntimeWarning: Degrees of freedom <= 0 for slice.\n",
      "  keepdims=keepdims)\n",
      "/Users/chrisgagne/synced_folders/bishop_lab_projects/volatility_paper_elife_submission/data_processing_code/get_data.py:1212: RuntimeWarning: Mean of empty slice\n",
      "  mean_1 = np.nanmean(Xr, axis=0)\n",
      "/Users/chrisgagne/synced_folders/bishop_lab_projects/volatility_paper_elife_submission/data_processing_code/get_data.py:1219: RuntimeWarning: Mean of empty slice\n",
      "  mean_2 = np.nanmean(Xr, axis=0)\n",
      "/Users/chrisgagne/synced_folders/bishop_lab_projects/volatility_paper_elife_submission/data_processing_code/get_data.py:1088: RuntimeWarning: Mean of empty slice\n",
      "  PSWQ_scaled[np.isnan(PSWQ_scaled)]=np.nanmean(PSWQ_scaled) # impute mean\n",
      "/Users/chrisgagne/synced_folders/bishop_lab_projects/volatility_paper_elife_submission/data_processing_code/get_data.py:1188: RuntimeWarning: Mean of empty slice\n",
      "  y[np.isnan(y)]=np.nanmean(y) # replace 5 missing with mean.\n"
     ]
    }
   ],
   "source": [
    "dftmp = pd.read_csv('../data/participant_table_exp2.csv',index_col=0)\n",
    "data_online = get_data_online(dftmp)"
   ]
  },
  {
   "cell_type": "code",
   "execution_count": 29,
   "metadata": {},
   "outputs": [
    {
     "data": {
      "text/plain": [
       "['mturk0',\n",
       " 'mturk1',\n",
       " 'mturk10',\n",
       " 'mturk100',\n",
       " 'mturk101',\n",
       " 'mturk102',\n",
       " 'mturk103',\n",
       " 'mturk104',\n",
       " 'mturk105',\n",
       " 'mturk106',\n",
       " 'mturk107',\n",
       " 'mturk108',\n",
       " 'mturk109',\n",
       " 'mturk11',\n",
       " 'mturk110',\n",
       " 'mturk111',\n",
       " 'mturk112',\n",
       " 'mturk113',\n",
       " 'mturk114',\n",
       " 'mturk115',\n",
       " 'mturk116',\n",
       " 'mturk117',\n",
       " 'mturk118',\n",
       " 'mturk119',\n",
       " 'mturk12',\n",
       " 'mturk120',\n",
       " 'mturk121',\n",
       " 'mturk122',\n",
       " 'mturk123',\n",
       " 'mturk124',\n",
       " 'mturk125',\n",
       " 'mturk126',\n",
       " 'mturk127',\n",
       " 'mturk128',\n",
       " 'mturk129',\n",
       " 'mturk13',\n",
       " 'mturk130',\n",
       " 'mturk131',\n",
       " 'mturk132',\n",
       " 'mturk133',\n",
       " 'mturk134',\n",
       " 'mturk135',\n",
       " 'mturk136',\n",
       " 'mturk137',\n",
       " 'mturk138',\n",
       " 'mturk139',\n",
       " 'mturk14',\n",
       " 'mturk140',\n",
       " 'mturk141',\n",
       " 'mturk142',\n",
       " 'mturk143',\n",
       " 'mturk144',\n",
       " 'mturk145',\n",
       " 'mturk146',\n",
       " 'mturk15',\n",
       " 'mturk16',\n",
       " 'mturk17',\n",
       " 'mturk18',\n",
       " 'mturk19',\n",
       " 'mturk2',\n",
       " 'mturk20',\n",
       " 'mturk21',\n",
       " 'mturk22',\n",
       " 'mturk23',\n",
       " 'mturk24',\n",
       " 'mturk25',\n",
       " 'mturk26',\n",
       " 'mturk27',\n",
       " 'mturk28',\n",
       " 'mturk29',\n",
       " 'mturk3',\n",
       " 'mturk30',\n",
       " 'mturk31',\n",
       " 'mturk32',\n",
       " 'mturk33',\n",
       " 'mturk34',\n",
       " 'mturk35',\n",
       " 'mturk36',\n",
       " 'mturk37',\n",
       " 'mturk38',\n",
       " 'mturk39',\n",
       " 'mturk4',\n",
       " 'mturk40',\n",
       " 'mturk41',\n",
       " 'mturk42',\n",
       " 'mturk43',\n",
       " 'mturk44',\n",
       " 'mturk45',\n",
       " 'mturk46',\n",
       " 'mturk47',\n",
       " 'mturk48',\n",
       " 'mturk49',\n",
       " 'mturk5',\n",
       " 'mturk50',\n",
       " 'mturk51',\n",
       " 'mturk52',\n",
       " 'mturk53',\n",
       " 'mturk54',\n",
       " 'mturk55',\n",
       " 'mturk56',\n",
       " 'mturk57',\n",
       " 'mturk58',\n",
       " 'mturk59',\n",
       " 'mturk6',\n",
       " 'mturk60',\n",
       " 'mturk61',\n",
       " 'mturk62',\n",
       " 'mturk63',\n",
       " 'mturk64',\n",
       " 'mturk65',\n",
       " 'mturk66',\n",
       " 'mturk67',\n",
       " 'mturk68',\n",
       " 'mturk69',\n",
       " 'mturk7',\n",
       " 'mturk70',\n",
       " 'mturk71',\n",
       " 'mturk72',\n",
       " 'mturk73',\n",
       " 'mturk74',\n",
       " 'mturk75',\n",
       " 'mturk76',\n",
       " 'mturk77',\n",
       " 'mturk78',\n",
       " 'mturk79',\n",
       " 'mturk8',\n",
       " 'mturk80',\n",
       " 'mturk81',\n",
       " 'mturk82',\n",
       " 'mturk83',\n",
       " 'mturk84',\n",
       " 'mturk85',\n",
       " 'mturk86',\n",
       " 'mturk87',\n",
       " 'mturk88',\n",
       " 'mturk89',\n",
       " 'mturk9',\n",
       " 'mturk90',\n",
       " 'mturk91',\n",
       " 'mturk92',\n",
       " 'mturk93',\n",
       " 'mturk94',\n",
       " 'mturk95',\n",
       " 'mturk96',\n",
       " 'mturk97',\n",
       " 'mturk98',\n",
       " 'mturk99']"
      ]
     },
     "execution_count": 29,
     "metadata": {},
     "output_type": "execute_result"
    }
   ],
   "source": [
    "data_online['MID_all_unique']"
   ]
  },
  {
   "cell_type": "code",
   "execution_count": 30,
   "metadata": {},
   "outputs": [
    {
     "data": {
      "text/plain": [
       "array([[0.99, 0.99, 0.99, ..., 0.99, 0.99, 0.99],\n",
       "       [0.96, 0.96, 0.96, ..., 0.96, 0.96, 0.96],\n",
       "       [0.58, 0.58, 0.58, ..., 0.58, 0.58, 0.58],\n",
       "       ...,\n",
       "       [0.65, 0.65, 0.65, ..., 0.65, 0.65, 0.65],\n",
       "       [0.66, 0.66, 0.66, ..., 0.66, 0.66, 0.66],\n",
       "       [0.35, 0.35, 0.35, ..., 0.35, 0.35, 0.35]])"
      ]
     },
     "execution_count": 30,
     "metadata": {},
     "output_type": "execute_result"
    }
   ],
   "source": [
    "sel = np.where((data_online['stabvol'][0,:]==-1)&(data_online['rewpain'][0,:]==1))[0]\n",
    "\n",
    "m0=data_online['mag_0_c'][:,sel]\n",
    "m0\n",
    "#plt.plot(m0[0:10])"
   ]
  },
  {
   "cell_type": "code",
   "execution_count": 31,
   "metadata": {},
   "outputs": [
    {
     "data": {
      "text/plain": [
       "array([-1.4296825 , -0.72391013, -0.01813776,  0.373958  , -0.95916759,\n",
       "       -1.35126335, -0.72391013, -1.50810165,  1.47182612, -0.01813776,\n",
       "        0.76605376, -0.80232928, -1.82177826,  1.07973036, -1.19442504,\n",
       "        1.62866443, -0.41023352,  0.06028139, -0.33181437, -0.64549098,\n",
       "       -0.95916759,  1.00131121,  0.60921545, -1.5865208 , -1.35126335,\n",
       "        0.06028139,  0.84447291, -0.01813776, -0.25339522, -0.48865267,\n",
       "       -0.80232928,  1.55024528,  1.23656867,  1.39340697, -0.41023352,\n",
       "       -1.66493995, -1.35126335, -1.82177826, -1.11600589,  0.5307963 ,\n",
       "       -1.5865208 , -0.17497607,  1.07973036, -1.35126335, -1.50810165,\n",
       "       -0.48865267,  1.31498782,  2.09917934, -0.25339522,  0.21711969,\n",
       "        1.55024528, -0.41023352,  0.76605376,  0.373958  ,  0.6876346 ,\n",
       "        0.373958  ,  0.06028139, -0.48865267, -0.64549098,  0.06028139,\n",
       "        1.00131121, -0.17497607,  1.00131121,  0.76605376,  0.84447291,\n",
       "        0.06028139,  1.07973036, -1.19442504,  1.00131121, -0.80232928,\n",
       "        1.39340697, -0.09655691, -0.56707183, -0.48865267, -0.48865267,\n",
       "       -0.64549098, -0.25339522,  0.45237715, -0.01813776, -1.03758674,\n",
       "        0.60921545, -0.09655691,  1.47182612,  0.6876346 ,  0.21711969,\n",
       "        0.373958  ,  0.45237715,  0.21711969,  0.21711969,  0.60921545,\n",
       "        1.00131121, -1.35126335, -0.64549098,  1.47182612,  1.78550273,\n",
       "        1.07973036, -0.41023352,  2.56969425,  0.60921545, -0.80232928,\n",
       "       -0.25339522, -1.74335911, -0.17497607, -0.33181437,  0.76605376,\n",
       "        0.84447291, -1.50810165, -0.09655691, -0.56707183, -0.25339522,\n",
       "       -1.82177826, -0.48865267,  1.23656867, -1.66493995,  0.21711969,\n",
       "        1.86392188, -0.17497607, -0.88074843, -1.11600589,  0.45237715,\n",
       "        0.60921545,  1.94234104,  0.60921545,  0.45237715, -0.80232928,\n",
       "       -0.72391013,  1.62866443, -0.01813776,  0.373958  ,  0.13870054,\n",
       "       -1.35126335, -1.82177826, -0.48865267, -1.19442504,  0.60921545,\n",
       "       -0.09655691, -0.56707183, -0.88074843, -0.80232928,  0.373958  ,\n",
       "       -1.19442504,  1.86392188, -0.33181437,  1.15814952,  1.00131121,\n",
       "        1.23656867,  1.55024528, -1.4296825 , -0.72391013, -0.01813776,\n",
       "        0.373958  , -0.95916759, -1.35126335, -0.72391013, -1.50810165,\n",
       "        1.47182612, -0.01813776,  0.76605376, -0.80232928, -1.82177826,\n",
       "        1.07973036, -1.19442504,  1.62866443, -0.41023352,  0.06028139,\n",
       "       -0.33181437, -0.64549098, -0.95916759,  1.00131121,  0.60921545,\n",
       "       -1.5865208 , -1.35126335,  0.06028139,  0.84447291, -0.01813776,\n",
       "       -0.25339522, -0.48865267, -0.80232928,  1.55024528,  1.23656867,\n",
       "        1.39340697, -0.41023352, -1.66493995, -1.35126335, -1.82177826,\n",
       "       -1.11600589,  0.5307963 , -1.5865208 , -0.17497607,  1.07973036,\n",
       "       -1.35126335, -1.50810165, -0.48865267,  1.31498782,  2.09917934,\n",
       "       -0.25339522,  0.21711969,  1.55024528, -0.41023352,  0.76605376,\n",
       "        0.373958  ,  0.6876346 ,  0.373958  ,  0.06028139, -0.48865267,\n",
       "       -0.64549098,  0.06028139,  1.00131121, -0.17497607,  1.00131121,\n",
       "        0.76605376,  0.84447291,  0.06028139,  1.07973036, -1.19442504,\n",
       "        1.00131121, -0.80232928,  1.39340697, -0.09655691, -0.56707183,\n",
       "       -0.48865267, -0.48865267, -0.64549098, -0.25339522,  0.45237715,\n",
       "       -0.01813776, -1.03758674,  0.60921545, -0.09655691,  1.47182612,\n",
       "        0.6876346 ,  0.21711969,  0.373958  ,  0.45237715,  0.21711969,\n",
       "        0.21711969,  0.60921545,  1.00131121, -1.35126335, -0.64549098,\n",
       "        1.47182612,  1.78550273,  1.07973036, -0.41023352,  2.56969425,\n",
       "        0.60921545, -0.80232928, -0.25339522, -1.74335911, -0.17497607,\n",
       "       -0.33181437,  0.76605376,  0.84447291, -1.50810165, -0.09655691,\n",
       "       -0.56707183, -0.25339522, -1.82177826, -0.48865267,  1.23656867,\n",
       "       -1.66493995,  0.21711969,  1.86392188, -0.17497607, -0.88074843,\n",
       "       -1.11600589,  0.45237715,  0.60921545,  1.94234104,  0.60921545,\n",
       "        0.45237715, -0.80232928, -0.72391013,  1.62866443, -0.01813776,\n",
       "        0.373958  ,  0.13870054, -1.35126335, -1.82177826, -0.48865267,\n",
       "       -1.19442504,  0.60921545, -0.09655691, -0.56707183, -0.88074843,\n",
       "       -0.80232928,  0.373958  , -1.19442504,  1.86392188, -0.33181437,\n",
       "        1.15814952,  1.00131121,  1.23656867,  1.55024528])"
      ]
     },
     "execution_count": 31,
     "metadata": {},
     "output_type": "execute_result"
    }
   ],
   "source": [
    "data_online['STAI_scaled']"
   ]
  },
  {
   "cell_type": "code",
   "execution_count": 32,
   "metadata": {},
   "outputs": [],
   "source": [
    "# plt.scatter(data_online['STAI_scaled_all_unique'],\n",
    "#             data_online['Bi1item_w_j_scaled_all_unique'])"
   ]
  },
  {
   "cell_type": "code",
   "execution_count": null,
   "metadata": {},
   "outputs": [],
   "source": []
  }
 ],
 "metadata": {
  "hide_input": false,
  "kernelspec": {
   "display_name": "Python 3",
   "language": "python",
   "name": "python3"
  },
  "language_info": {
   "codemirror_mode": {
    "name": "ipython",
    "version": 3
   },
   "file_extension": ".py",
   "mimetype": "text/x-python",
   "name": "python",
   "nbconvert_exporter": "python",
   "pygments_lexer": "ipython3",
   "version": "3.7.3"
  },
  "toc": {
   "base_numbering": 1,
   "nav_menu": {},
   "number_sections": true,
   "sideBar": true,
   "skip_h1_title": false,
   "title_cell": "Table of Contents",
   "title_sidebar": "Contents",
   "toc_cell": false,
   "toc_position": {},
   "toc_section_display": "block",
   "toc_window_display": true
  }
 },
 "nbformat": 4,
 "nbformat_minor": 2
}
